{
 "cells": [
  {
   "cell_type": "code",
   "execution_count": 1,
   "metadata": {
    "collapsed": true
   },
   "outputs": [],
   "source": [
    "import pprint\n",
    "import pickle\n",
    "import string\n",
    "from tabulate import tabulate\n",
    "import pandas as pd\n",
    "\n",
    "import sys\n",
    "import os\n",
    "import time\n",
    "\n",
    "\n",
    "from sklearn.naive_bayes import MultinomialNB\n",
    "from sklearn.naive_bayes import GaussianNB\n",
    "from sklearn.naive_bayes import BernoulliNB\n",
    "from sklearn.metrics import classification_report\n",
    "from sklearn.model_selection import train_test_split\n",
    "from sklearn.feature_extraction.text import TfidfVectorizer\n",
    "from sklearn.metrics import classification_report\n",
    "from sklearn.metrics import roc_auc_score\n",
    "from sklearn.externals import joblib"
   ]
  },
  {
   "cell_type": "code",
   "execution_count": 2,
   "metadata": {},
   "outputs": [
    {
     "name": "stdout",
     "output_type": "stream",
     "text": [
      "Load : File  1\n",
      "Transform : File  1\n",
      "Training : File  1\n"
     ]
    },
    {
     "name": "stderr",
     "output_type": "stream",
     "text": [
      "C:\\Users\\micha\\Anaconda3\\lib\\site-packages\\sklearn\\metrics\\classification.py:1135: UndefinedMetricWarning: Precision and F-score are ill-defined and being set to 0.0 in labels with no predicted samples.\n",
      "  'precision', 'predicted', average, warn_for)\n"
     ]
    },
    {
     "name": "stdout",
     "output_type": "stream",
     "text": [
      "Save : File  1\n",
      "File  1  is completed.\n",
      "\n",
      "Load : File  2\n",
      "Transform : File  2\n",
      "Training : File  2\n"
     ]
    },
    {
     "name": "stderr",
     "output_type": "stream",
     "text": [
      "C:\\Users\\micha\\Anaconda3\\lib\\site-packages\\sklearn\\metrics\\classification.py:1135: UndefinedMetricWarning: Precision and F-score are ill-defined and being set to 0.0 in labels with no predicted samples.\n",
      "  'precision', 'predicted', average, warn_for)\n"
     ]
    },
    {
     "name": "stdout",
     "output_type": "stream",
     "text": [
      "Save : File  2\n",
      "File  2  is completed.\n",
      "\n",
      "Load : File  3\n",
      "Transform : File  3\n",
      "Training : File  3\n"
     ]
    },
    {
     "name": "stderr",
     "output_type": "stream",
     "text": [
      "C:\\Users\\micha\\Anaconda3\\lib\\site-packages\\sklearn\\metrics\\classification.py:1135: UndefinedMetricWarning: Precision and F-score are ill-defined and being set to 0.0 in labels with no predicted samples.\n",
      "  'precision', 'predicted', average, warn_for)\n"
     ]
    },
    {
     "name": "stdout",
     "output_type": "stream",
     "text": [
      "Save : File  3\n",
      "File  3  is completed.\n",
      "\n",
      "Load : File  4\n",
      "Transform : File  4\n",
      "Training : File  4\n"
     ]
    },
    {
     "name": "stderr",
     "output_type": "stream",
     "text": [
      "C:\\Users\\micha\\Anaconda3\\lib\\site-packages\\sklearn\\metrics\\classification.py:1135: UndefinedMetricWarning: Precision and F-score are ill-defined and being set to 0.0 in labels with no predicted samples.\n",
      "  'precision', 'predicted', average, warn_for)\n"
     ]
    },
    {
     "name": "stdout",
     "output_type": "stream",
     "text": [
      "Save : File  4\n",
      "File  4  is completed.\n",
      "\n",
      "Load : File  5\n",
      "Transform : File  5\n",
      "Training : File  5\n"
     ]
    },
    {
     "name": "stderr",
     "output_type": "stream",
     "text": [
      "C:\\Users\\micha\\Anaconda3\\lib\\site-packages\\sklearn\\metrics\\classification.py:1135: UndefinedMetricWarning: Precision and F-score are ill-defined and being set to 0.0 in labels with no predicted samples.\n",
      "  'precision', 'predicted', average, warn_for)\n"
     ]
    },
    {
     "name": "stdout",
     "output_type": "stream",
     "text": [
      "Save : File  5\n",
      "File  5  is completed.\n",
      "\n",
      "Load : File  6\n",
      "Untokenize : File  6\n",
      "Transform : File  6\n",
      "Training : File  6\n"
     ]
    },
    {
     "name": "stderr",
     "output_type": "stream",
     "text": [
      "C:\\Users\\micha\\Anaconda3\\lib\\site-packages\\sklearn\\metrics\\classification.py:1135: UndefinedMetricWarning: Precision and F-score are ill-defined and being set to 0.0 in labels with no predicted samples.\n",
      "  'precision', 'predicted', average, warn_for)\n"
     ]
    },
    {
     "name": "stdout",
     "output_type": "stream",
     "text": [
      "Save : File  6\n",
      "File  6  is completed.\n",
      "\n",
      "Load : File  7\n",
      "Untokenize : File  7\n",
      "Transform : File  7\n",
      "Training : File  7\n"
     ]
    },
    {
     "name": "stderr",
     "output_type": "stream",
     "text": [
      "C:\\Users\\micha\\Anaconda3\\lib\\site-packages\\sklearn\\metrics\\classification.py:1135: UndefinedMetricWarning: Precision and F-score are ill-defined and being set to 0.0 in labels with no predicted samples.\n",
      "  'precision', 'predicted', average, warn_for)\n"
     ]
    },
    {
     "name": "stdout",
     "output_type": "stream",
     "text": [
      "Save : File  7\n",
      "File  7  is completed.\n",
      "\n",
      "Load : File  8\n",
      "Untokenize : File  8\n",
      "Transform : File  8\n",
      "Training : File  8\n"
     ]
    },
    {
     "name": "stderr",
     "output_type": "stream",
     "text": [
      "C:\\Users\\micha\\Anaconda3\\lib\\site-packages\\sklearn\\metrics\\classification.py:1135: UndefinedMetricWarning: Precision and F-score are ill-defined and being set to 0.0 in labels with no predicted samples.\n",
      "  'precision', 'predicted', average, warn_for)\n"
     ]
    },
    {
     "name": "stdout",
     "output_type": "stream",
     "text": [
      "Save : File  8\n",
      "File  8  is completed.\n",
      "\n",
      "Time taken : 168.94006991386414\n"
     ]
    }
   ],
   "source": [
    "full_program_time_1 = time.time()\n",
    "for i in range(1, 9):\n",
    "    \n",
    "    #Load the file from pickle\n",
    "    print('Load : File ', i)\n",
    "    \n",
    "    #Read the train data\n",
    "    pkl_file = open('outputs/pkl/preprocessed_data_%s.pkl'%i, 'rb')\n",
    "    data = pickle.load(pkl_file)\n",
    "    pkl_file.close()\n",
    "    \n",
    "    \n",
    "    #Read the test data which is real data\n",
    "    pkl_file = open('outputs/pkl/preprocessed_test_data_1.pkl', 'rb')\n",
    "    testdata = pickle.load(pkl_file)\n",
    "    pkl_file.close()\n",
    "    \n",
    "\n",
    "    if i >= 6:\n",
    "        \n",
    "        #Untokenize the data\n",
    "        print('Untokenize : File ', i)\n",
    "        \n",
    "        count = 0\n",
    "        for line in data.content:\n",
    "            data.content[count] = \"\".join([\" \"+i if not i.startswith(\"'\") and i not in string.punctuation else i for i in line]).strip()\n",
    "            count = count + 1\n",
    "    \n",
    "    \n",
    "    X_train = data.content\n",
    "    y_train = data.sentiment\n",
    "    \n",
    "    \n",
    "    X_test = testdata.content\n",
    "    y_test = testdata.sentiment\n",
    "    \n",
    "    vectorizer = TfidfVectorizer(min_df = 5,\n",
    "                                max_df = 0.8,\n",
    "                                sublinear_tf = True,\n",
    "                                use_idf = True)\n",
    "\n",
    "    #Transform the words to feature vectors\n",
    "    \n",
    "    print('Transform : File ', i)\n",
    "    \n",
    "    X_train = vectorizer.fit_transform(X_train)\n",
    "    X_test = vectorizer.transform(X_test)\n",
    "    \n",
    "    X_train_g = X_train.toarray()\n",
    "    X_test_g = X_test.toarray()\n",
    "    \n",
    "    \n",
    "    \n",
    "    ############### NB ###############\n",
    "    \n",
    "    print('Training : File ', i)\n",
    "\n",
    "    nb_classifier_b = BernoulliNB()\n",
    "    \n",
    "    nb_classifier_b_result = nb_classifier_b.fit(X_train, y_train)\n",
    "    nb_classifier_b_predict = nb_classifier_b.predict(X_test)\n",
    "    \n",
    "    nb_classifier_b_report = classification_report(y_test, nb_classifier_b_predict)\n",
    "    \n",
    "    nb_classifier_b_score = nb_classifier_b.score(X_test, y_test)\n",
    "    \n",
    "    ############### NB ###############\n",
    "    \n",
    "    \n",
    "    print('Save : File ', i)\n",
    "    \n",
    "    result = [['nb_classifier_b', nb_classifier_b_result, nb_classifier_b_predict, nb_classifier_b_report, nb_classifier_b_score]]\n",
    "    \n",
    "    \n",
    "    df = pd.DataFrame(result,columns=['Type of Event Model (NB)','Classifier', 'Prediction', 'Report', 'Score'])\n",
    "    \n",
    "    #Persist the model & Vectorizer\n",
    "    joblib.dump(nb_classifier_b, 'Backup/NB/4.0_nb_model__%s.pkl'%i)\n",
    "    joblib.dump(vectorizer, 'Backup/NB/4.0_nb_model__%s_vectorizer.pkl'%i)\n",
    "    \n",
    "    #Save the processed data into csv\n",
    "    df.to_csv('Outputs/csv/NB/4.0_nb_%s_result.csv'%i, index = False)\n",
    "    \n",
    "    #Save the file in pickle format\n",
    "    outputs = open('Outputs/pkl/NB/4.0_nb_%s_result.pkl'%i,'wb')\n",
    "    pickle.dump(df, outputs)\n",
    "    outputs.close()\n",
    "    \n",
    "    print('File ' ,i , ' is completed.\\n')\n",
    "    \n",
    "full_program_time_2 = time.time()\n",
    "second = full_program_time_2 - full_program_time_1\n",
    "minute = second/60\n",
    "hour = minute/60\n",
    "print('Minute :', minute)\n",
    "print('Hour :', hour)"
   ]
  },
  {
   "cell_type": "code",
   "execution_count": null,
   "metadata": {
    "collapsed": true
   },
   "outputs": [],
   "source": [
    "pkl_file = open('Outputs/pkl/NB/nb_preprocessed_data_1_result.pkl', 'rb')\n",
    "data = pickle.load(pkl_file)\n",
    "pkl_file.close()\n",
    "print(data.Score)"
   ]
  },
  {
   "cell_type": "code",
   "execution_count": null,
   "metadata": {
    "collapsed": true
   },
   "outputs": [],
   "source": [
    "pkl_file = open('Outputs/pkl/RF/rf_preprocessed_data_1_result.pkl', 'rb')\n",
    "data = pickle.load(pkl_file)\n",
    "pkl_file.close()\n",
    "for line in data.Report:\n",
    "    print(line)"
   ]
  },
  {
   "cell_type": "code",
   "execution_count": null,
   "metadata": {
    "collapsed": true
   },
   "outputs": [],
   "source": [
    "pkl_file = open('Outputs/pkl/SVM/svm_preprocessed_data_1_result.pkl', 'rb')\n",
    "data = pickle.load(pkl_file)\n",
    "pkl_file.close()\n",
    "print(data.Score)"
   ]
  },
  {
   "cell_type": "code",
   "execution_count": null,
   "metadata": {
    "collapsed": true
   },
   "outputs": [],
   "source": []
  }
 ],
 "metadata": {
  "kernelspec": {
   "display_name": "Python 3",
   "language": "python",
   "name": "python3"
  },
  "language_info": {
   "codemirror_mode": {
    "name": "ipython",
    "version": 3
   },
   "file_extension": ".py",
   "mimetype": "text/x-python",
   "name": "python",
   "nbconvert_exporter": "python",
   "pygments_lexer": "ipython3",
   "version": "3.6.3"
  }
 },
 "nbformat": 4,
 "nbformat_minor": 2
}
